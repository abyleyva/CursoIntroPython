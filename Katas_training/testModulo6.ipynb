{
 "cells": [
  {
   "cell_type": "markdown",
   "metadata": {},
   "source": [
    "# Escenario: Trabajar en una aplicación planetaria\n",
    "\n",
    "##### Objetivos:\n",
    "* Identificar cuándo usar una lista.\n",
    "* Crea una lista.\n",
    "* Obtener acceso a un elemento determinado de una lista mediante índices.\n",
    "* Insertar elementos al final de una lista. Ordenar y dividir una lista."
   ]
  },
  {
   "cell_type": "markdown",
   "metadata": {},
   "source": [
    "#### Introducción a las listas\n",
    "Python tiene muchos tipos integrados, como cadenas y enteros. Python tiene un tipo para almacenar una colección de valores: la lista.\n",
    "\n",
    "##### Crear una lista // Modificar Valores // Obtener Longitud de Lista // Agregar Nuevo Contenido // Remover item // Indices Negativos \n",
    "Para crear una lista, asigne una secuencia de valores a una variable. Cada valor está separado por una coma y rodeado por corchetes ([]). En el ejemplo siguiente se almacena la lista de todos los planetas de la variable planets:"
   ]
  },
  {
   "cell_type": "code",
   "execution_count": 1,
   "metadata": {},
   "outputs": [
    {
     "name": "stdout",
     "output_type": "stream",
     "text": [
      "El Tercer planeta es: Earth\n",
      "Nombre nuevo del planeta Tierra es: Terricola\n",
      "La lista de planetas tiene: 8 elementos.\n",
      "Ahora la lista de planetas tiene: 10 elementos. Se han agregado 2 nuevos planetas\n",
      "Removimos 1 planeta ahora son: 9 elementos.\n",
      "El ultimo planeta es:  Planeta Noveno\n",
      "El penultimo planeta es Neptune\n",
      "Jupiter es planeta numero  5  desde el sol\n"
     ]
    }
   ],
   "source": [
    "#Crear Lista\n",
    "planets = ['Mercury', 'Venus', 'Earth', 'Mars', 'Jupiter', 'Saturn', 'Uranus', 'Neptune']\n",
    "\n",
    "#Acceder a la lista por indices\n",
    "#los indices empiezar desde 0 como valor inicial\n",
    "print(\"El Tercer planeta es: \" + planets[2])\n",
    "\n",
    "#Modificar valores de una lista: \n",
    "planets[1]='Terricola'\n",
    "print(\"Nombre nuevo del planeta Tierra es: \" + planets[1])\n",
    "\n",
    "\n",
    "#Obtener longitud de la lista\n",
    "elementos=len(planets)\n",
    "print(\"La lista de planetas tiene: {elements} elementos.\".format(elements=elementos))\n",
    "\n",
    "#Agregando Nuevos Elementos con .append(value)\n",
    "planets.append('Planeta Noveno')\n",
    "planets.append('Planeta Decimo')\n",
    "\n",
    "elementos=len(planets)\n",
    "print(\"Ahora la lista de planetas tiene: {elements} elementos. Se han agregado 2 nuevos planetas\".format(elements=elementos))\n",
    "\n",
    "#Remover elementos\n",
    "planets.pop()\n",
    "elementos=len(planets)\n",
    "print(\"Removimos 1 planeta ahora son: {elements} elementos.\".format(elements=elementos))\n",
    "\n",
    "\n",
    "#Indices negativos\n",
    "# -1 devuelve el ultimo item agregado\n",
    "# - 2 devuelve el penultimo item agregado\n",
    "\n",
    "print('El ultimo planeta es: ', planets[-1])\n",
    "print('El penultimo planeta es', planets[-2])\n",
    "\n",
    "#Buscar un valor en una lista\n",
    "# se utiliza index()\n",
    "\n",
    "jupiter_index=planets.index('Jupiter')\n",
    "print('Jupiter es planeta numero ', jupiter_index+1,' desde el sol')"
   ]
  },
  {
   "cell_type": "markdown",
   "metadata": {},
   "source": [
    "## Trabajar con números en listas\n",
    "¿Sabías que la gravedad en otros planetas es más fuerte o más débil dependiendo de la masa o el tamaño del planeta? La gravedad a menudo se mide en G, donde la gravedad en la Tierra es 1 y otros planetas se miden en relación con la Tierra.\n",
    "\n",
    "La gravedad en la luna es de 0,166 G, por lo que los astronautas pueden saltar tan alto en la luna. La gravedad en Neptuno es de 1,12 G, por lo que saltar es más difícil. Incluso los atletas olímpicos tendrían dificultades para saltar más de 2 metros sobre Neptuno.\n"
   ]
  },
  {
   "cell_type": "markdown",
   "metadata": {},
   "source": [
    "#### Almacernar Numeros en Listas\n",
    "Para almacenar números con decimales en Python, utilizamos el tipo float. "
   ]
  },
  {
   "cell_type": "code",
   "execution_count": 6,
   "metadata": {},
   "outputs": [],
   "source": [
    "gravity_on_earth = 1.0\n",
    "gravity_on_the_moon = 0.166\n",
    "\n",
    "# fuerzas gravitacionales de los ocho planetas del sistema solar, en G:\n",
    "gravity_on_planets = [0.378, 0.907, 1, 0.379, 2.36, 0.916, 0.889, 1.12]"
   ]
  },
  {
   "cell_type": "markdown",
   "metadata": {},
   "source": [
    "En la Tierra, un autobús de dos pisos pesa 12,650 kilogramos (kg), que es 12.65 toneladas. En Mercurio, donde la gravedad es de 0,378 G, el mismo autobús pesa 12.65 toneladas multiplicadas por 0.378. En Python, para multiplicar dos valores, se utiliza el símbolo *.\n",
    "\n",
    "En el siguiente ejemplo, puedes calcular el peso de un bus de dos pisos en diferentes planetas obteniendo el valor de la lista:"
   ]
  },
  {
   "cell_type": "code",
   "execution_count": 7,
   "metadata": {},
   "outputs": [
    {
     "name": "stdout",
     "output_type": "stream",
     "text": [
      "On Earth, a double-decker bus weighs 12650 kg\n",
      "On Mercury, a double-decker bus weighs 4781.7 kg\n"
     ]
    }
   ],
   "source": [
    "bus_weight = 12650 # in kilograms, on Earth\n",
    "\n",
    "print('On Earth, a double-decker bus weighs', bus_weight, 'kg')\n",
    "print('On Mercury, a double-decker bus weighs', bus_weight * gravity_on_planets[0], 'kg')"
   ]
  },
  {
   "cell_type": "markdown",
   "metadata": {},
   "source": [
    "### min() y max () con listas\n",
    "* La función max() devuelve el número más grande \n",
    "* La función min() devuelve el más pequeño. \n",
    "\n",
    "El siguiente código calcula los pesos mínimos y máximos en el sistema solar mediante el uso de esas funciones:"
   ]
  },
  {
   "cell_type": "code",
   "execution_count": 8,
   "metadata": {},
   "outputs": [
    {
     "name": "stdout",
     "output_type": "stream",
     "text": [
      "On Earth, a double-decker bus weighs 12650 kg\n",
      "The lightest a bus would be in the solar system is 4781.7 kg\n",
      "The heaviest a bus would be in the solar system is 29854.0 kg\n"
     ]
    }
   ],
   "source": [
    "bus_weight = 12650 # in kilograms, on Earth\n",
    "\n",
    "print('On Earth, a double-decker bus weighs', bus_weight, 'kg')\n",
    "print('The lightest a bus would be in the solar system is', bus_weight * min(gravity_on_planets), 'kg')\n",
    "print('The heaviest a bus would be in the solar system is', bus_weight * max(gravity_on_planets), 'kg')"
   ]
  },
  {
   "cell_type": "markdown",
   "metadata": {},
   "source": [
    "### Manipular datos de lista\n",
    "\n",
    "Python proporciona un soporte sólido para trabajar con los datos en las listas. Este soporte incluye el **slicing** (examinando solo una parte) y el **sorting**.\n",
    "\n",
    "#### Slice list\n",
    "* Es una porción, fragmento, segmento de la lista. \n",
    "* Slice utiliza corchetes []\n",
    "* Tiene los índices inicial y final de los elementos que queremos recuperar.\n",
    "* Cuando se utiliza slice, se crea una nueva lista que comienza en el índice inicial y que termina antes (y no incluye) el índice final.\n",
    "* Un slice crea una nueva lista. No modifica la lista actual.\n",
    "\n",
    "La lista de planetas tiene ocho elementos. La Tierra es la tercera en la lista. Para obtener los planetas antes que la Tierra, use un slice para obtener elementos que comienzan en 0 y terminan en 2:"
   ]
  },
  {
   "cell_type": "code",
   "execution_count": 14,
   "metadata": {},
   "outputs": [
    {
     "name": "stdout",
     "output_type": "stream",
     "text": [
      "['Mercury', 'Venus']\n",
      "['Mars', 'Jupiter', 'Saturn', 'Uranus']\n",
      "['Mars', 'Jupiter', 'Saturn', 'Uranus', 'Neptune']\n"
     ]
    }
   ],
   "source": [
    "#La indexacion comienza en cero\n",
    "planets_before_earth = planets[0:2]\n",
    "print(planets_before_earth)\n",
    "\n",
    "planets_after_earth = planets[3:7]\n",
    "print(planets_after_earth) \n",
    "\n",
    "# Si no se coloca el indice final, Python asume que se quiere ir hasta el final de la lista\n",
    "planets_after_earth = planets[3:]\n",
    "print(planets_after_earth)"
   ]
  },
  {
   "cell_type": "markdown",
   "metadata": {},
   "source": [
    "#### Uniendo listas\n",
    "Para unir dos listas, utilice el operador (+) con dos listas para devolver una nueva lista\n",
    "\n",
    "Hay 79 lunas conocidas de Júpiter. Las cuatro más grandes son Io, Europa, Ganímedes y Calisto. Estas se llaman las lunas galileanas, porque Galileo Galilei las descubrió usando su telescopio en 1610. Más cerca de Júpiter que del grupo galileo está el grupo de Amaltea. Consiste en las lunas Metis, Adrastea, Amaltea y Teba.\n",
    "\n",
    "\n"
   ]
  },
  {
   "cell_type": "markdown",
   "metadata": {},
   "source": [
    "Crea dos listas. Llene la primera lista con las cuatro lunas de Amaltea y la segunda lista con las cuatro lunas galileanas. Únelos para crear una nueva lista:"
   ]
  },
  {
   "cell_type": "code",
   "execution_count": 16,
   "metadata": {},
   "outputs": [
    {
     "name": "stdout",
     "output_type": "stream",
     "text": [
      "The regular satellite moons of Jupiter are ['Metis', 'Adrastea', 'Amalthea', 'Thebe', 'Io', 'Europa', 'Ganymede', 'Callisto']\n"
     ]
    }
   ],
   "source": [
    "amalthea_group = ['Metis', 'Adrastea', 'Amalthea', 'Thebe']\n",
    "galilean_moons = ['Io', 'Europa', 'Ganymede', 'Callisto']\n",
    "\n",
    "regular_satellite_moons = amalthea_group + galilean_moons\n",
    "print('The regular satellite moons of Jupiter are', regular_satellite_moons)"
   ]
  },
  {
   "cell_type": "markdown",
   "metadata": {},
   "source": [
    "#### Ordenar listas\n",
    "* Utilizamos el método sort() de la lista.\n",
    "* Python ordenará una lista de cadenas en orden alfabético y una lista de números en orden numérico\n",
    "* método .sort modifica la lista actual.\n"
   ]
  },
  {
   "cell_type": "code",
   "execution_count": 17,
   "metadata": {},
   "outputs": [
    {
     "name": "stdout",
     "output_type": "stream",
     "text": [
      "The regular satellite moons of Jupiter are ['Adrastea', 'Amalthea', 'Callisto', 'Europa', 'Ganymede', 'Io', 'Metis', 'Thebe']\n"
     ]
    }
   ],
   "source": [
    "regular_satellite_moons.sort()\n",
    "print(\"The regular satellite moons of Jupiter are\", regular_satellite_moons)"
   ]
  }
 ],
 "metadata": {
  "interpreter": {
   "hash": "654efed62d190ab7b005391799394c6faf96d32c6fee25c2a845b9f38be1babe"
  },
  "kernelspec": {
   "display_name": "Python 3.10.2 64-bit (windows store)",
   "language": "python",
   "name": "python3"
  },
  "language_info": {
   "codemirror_mode": {
    "name": "ipython",
    "version": 3
   },
   "file_extension": ".py",
   "mimetype": "text/x-python",
   "name": "python",
   "nbconvert_exporter": "python",
   "pygments_lexer": "ipython3",
   "version": "3.10.2"
  },
  "orig_nbformat": 4
 },
 "nbformat": 4,
 "nbformat_minor": 2
}
