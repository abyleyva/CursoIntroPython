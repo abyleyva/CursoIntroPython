{
 "cells": [
  {
   "cell_type": "markdown",
   "metadata": {},
   "source": [
    "### Operadores en Pythom\n",
    "* Suma\n",
    "* Resta\n",
    "* Multiplicacion\n",
    "* Division"
   ]
  },
  {
   "cell_type": "code",
   "execution_count": 9,
   "metadata": {},
   "outputs": [
    {
     "name": "stdout",
     "output_type": "stream",
     "text": [
      "La Suma de 30 + 12 es: 42\n",
      "La Resta de 30 - 12 es: 18\n",
      "La Multiplicacion de 30 * 12 es: 360\n",
      "La Division de 30 / 12 es: 2.5\n",
      "La Division de Piso (Dision Redondeado asia abajo de 30 / 12 es: 2\n",
      "La Division (Dision Obteniendo el Residuo de 30 / 12 es: 6\n"
     ]
    }
   ],
   "source": [
    "# Suma\n",
    "num1=30\n",
    "num2=12\n",
    "oper=\"Suma\"\n",
    "simbol=\"+\"\n",
    "answer = num1 + num2\n",
    "print(\"La {oper} de {num1} {simbol} {num2} es: {answer}\".format(oper=oper,num1=num1,num2=num2,answer=answer,simbol=simbol))\n",
    "\n",
    "oper=\"Resta\"\n",
    "simbol=\"-\"\n",
    "answer = num1 - num2\n",
    "print(\"La {oper} de {num1} {simbol} {num2} es: {answer}\".format(oper=oper,num1=num1,num2=num2,answer=answer,simbol=simbol))\n",
    "\n",
    "oper=\"Multiplicacion\"\n",
    "simbol=\"*\"\n",
    "answer = num1 * num2\n",
    "print(\"La {oper} de {num1} {simbol} {num2} es: {answer}\".format(oper=oper,num1=num1,num2=num2,answer=answer,simbol=simbol))\n",
    "\n",
    "oper=\"Division\"\n",
    "simbol=\"/\"\n",
    "answer = num1 / num2\n",
    "print(\"La {oper} de {num1} {simbol} {num2} es: {answer}\".format(oper=oper,num1=num1,num2=num2,answer=answer,simbol=simbol))\n",
    "\n",
    "oper=\"Division de Piso (Dision Redondeado asia abajo\"\n",
    "simbol=\"/\"\n",
    "answer = num1 // num2\n",
    "print(\"La {oper} de {num1} {simbol} {num2} es: {answer}\".format(oper=oper,num1=num1,num2=num2,answer=answer,simbol=simbol))\n",
    "\n",
    "oper=\"Division (Dision Obteniendo el Residuo\"\n",
    "simbol=\"/\"\n",
    "answer = num1 % num2\n",
    "print(\"La {oper} de {num1} {simbol} {num2} es: {answer}\".format(oper=oper,num1=num1,num2=num2,answer=answer,simbol=simbol))"
   ]
  },
  {
   "cell_type": "markdown",
   "metadata": {},
   "source": [
    "#### Jeranquia de Operaciones\n",
    "\n",
    "* Paretesis\n",
    "* Exponentes\n",
    "* Multiplicacion / Division\n",
    "* Suma / Resta\n",
    "\n",
    "Observa cómo se evalúan los paréntesis antes de cualquier otra operación. Esto permite asegurarte de que el código se ejecuta de manera predecible y que su código sea más fácil de leer y mantener.\n",
    "\n",
    "Como resultado, es una buena práctica usar paréntesis incluso si el orden de operación se evaluaría de la misma manera sin ellos. En las siguientes dos líneas de código, la segunda es más comprensible porque el paréntesis es una indicación clara de qué operación se realizará primero.\n"
   ]
  },
  {
   "cell_type": "code",
   "execution_count": 11,
   "metadata": {},
   "outputs": [
    {
     "name": "stdout",
     "output_type": "stream",
     "text": [
      "1084\n",
      "1084\n",
      "2116\n"
     ]
    }
   ],
   "source": [
    "result_1 = 1032 + 26 * 2\n",
    "# Mismo Resultado, pero ayuda a entender mejor el codigo\n",
    "result_2 = 1032 + (26 * 2)\n",
    "#No siempre es el caso, si se coloca mal los parentesis puede ocasionar resultdis inesperados\n",
    "result_3 = (1032 + 26) * 2\n",
    "\n",
    "print(result_1) # 1086\n",
    "print(result_2) # 1086\n",
    "print(result_3) # 2116"
   ]
  },
  {
   "cell_type": "markdown",
   "metadata": {},
   "source": [
    "#### Trabajar con números en Python\n",
    "\n",
    "Python admite dos tipos principales de números: enteros (o int) y coma flotante (o float). La diferencia clave entre los dos es la existencia de un punto decimal; los enteros son números enteros, mientras que los floats contienen un valor decimal."
   ]
  },
  {
   "cell_type": "code",
   "execution_count": 13,
   "metadata": {},
   "outputs": [
    {
     "ename": "ValueError",
     "evalue": "invalid literal for int() with base 10: '215.50'",
     "output_type": "error",
     "traceback": [
      "\u001b[1;31m---------------------------------------------------------------------------\u001b[0m",
      "\u001b[1;31mValueError\u001b[0m                                Traceback (most recent call last)",
      "\u001b[1;32m\\Ubuntu-20.04\\home\\abyleyva\\projects\\CursoIntroPython\\Katas_training\\testModulo5.ipynb Cell 6'\u001b[0m in \u001b[0;36m<module>\u001b[1;34m\u001b[0m\n\u001b[1;32m----> <a href='vscode-notebook-cell://wsl%24/Ubuntu-20.04/home/abyleyva/projects/CursoIntroPython/Katas_training/testModulo5.ipynb#ch0000007?line=0'>1</a>\u001b[0m demo_int \u001b[39m=\u001b[39m \u001b[39mint\u001b[39;49m(\u001b[39m'\u001b[39;49m\u001b[39m215.50\u001b[39;49m\u001b[39m'\u001b[39;49m)\n\u001b[0;32m      <a href='vscode-notebook-cell://wsl%24/Ubuntu-20.04/home/abyleyva/projects/CursoIntroPython/Katas_training/testModulo5.ipynb#ch0000007?line=1'>2</a>\u001b[0m \u001b[39mprint\u001b[39m(demo_int)\n\u001b[0;32m      <a href='vscode-notebook-cell://wsl%24/Ubuntu-20.04/home/abyleyva/projects/CursoIntroPython/Katas_training/testModulo5.ipynb#ch0000007?line=3'>4</a>\u001b[0m demo_float \u001b[39m=\u001b[39m \u001b[39mfloat\u001b[39m(\u001b[39m'\u001b[39m\u001b[39m215.3\u001b[39m\u001b[39m'\u001b[39m)\n",
      "\u001b[1;31mValueError\u001b[0m: invalid literal for int() with base 10: '215.50'"
     ]
    }
   ],
   "source": [
    "demo_int = int('215')\n",
    "print(demo_int)\n",
    "\n",
    "demo_float = float('215.3')\n",
    "print(demo_float)\n",
    "\n",
    "# Si intentamos convertir una cadena de texto con valor entero a decimal o vicebersa, tendriamos un error:\n",
    "# demo_int = int('215.78') # No es pisible asignar este valor"
   ]
  },
  {
   "cell_type": "markdown",
   "metadata": {},
   "source": [
    "#### Valores absolutos\n",
    "Un valor absoluto en matemáticas es el número no negativo sin su signo. El uso de un valor absoluto puede ser útil en diferentes situaciones, incluido nuestro ejemplo de buscar determinar la distancia entre dos planetas. Considera las siguientes matemáticas:"
   ]
  },
  {
   "cell_type": "code",
   "execution_count": 14,
   "metadata": {},
   "outputs": [
    {
     "name": "stdout",
     "output_type": "stream",
     "text": [
      "23\n",
      "-23\n",
      "23\n",
      "23\n"
     ]
    }
   ],
   "source": [
    "a = 39 - 16\n",
    "b = 16 - 39\n",
    "\n",
    "print(a)\n",
    "print(b)\n",
    "\n",
    "#Resultado absoluto\n",
    "print(abs(39 - 16))\n",
    "print(abs(16 - 39))"
   ]
  },
  {
   "cell_type": "markdown",
   "metadata": {},
   "source": [
    "Las respuestas son 23 y -23, respectivamente. hay operaciones dependiendo del tipo de escenario que el orden en el que ingresas los números no importa, porque la respuesta absoluta es la misma. Entonces para obtener su valor absoluto utilizamos **abs** que basicamente quitar el simbolo negativo"
   ]
  },
  {
   "cell_type": "markdown",
   "metadata": {},
   "source": [
    "#### Redondeo\n",
    "La función de python incorporada llamada round también es útil. Usada para redondear al entero más cercano si el valor decimal .5 es mayor o mayor, o hacia abajo si es menor que .5."
   ]
  },
  {
   "cell_type": "code",
   "execution_count": 16,
   "metadata": {},
   "outputs": [
    {
     "name": "stdout",
     "output_type": "stream",
     "text": [
      "15\n",
      "14.57\n"
     ]
    }
   ],
   "source": [
    "valor=14.56789\n",
    "print(round(valor))\n",
    "\n",
    "print(round(valor,2))\n",
    "# Se puede indicar el numero de decimales a redondear\n",
    "#Si no se indica valor se redondea todos los decimales"
   ]
  },
  {
   "cell_type": "markdown",
   "metadata": {},
   "source": [
    "#### Biblioteca Math\n",
    "Python tiene bibliotecas para proporcionar operaciones y cálculos más avanzados. Una de las más comunes es la biblioteca math. math te permite realizar el redondeo con floor y ceil, proporcionar el valor de pi, y muchas otras operaciones. Veamos cómo usar esta biblioteca para redondear hacia arriba o hacia abajo.\n",
    "\n",
    "El redondeo de números permite quitar la parte decimal de un flotador. Puedes elegir redondear siempre hacia arriba al número entero más cercano usando ceil, o hacia abajo usando floor.\n"
   ]
  },
  {
   "cell_type": "code",
   "execution_count": 17,
   "metadata": {},
   "outputs": [
    {
     "name": "stdout",
     "output_type": "stream",
     "text": [
      "13\n",
      "12\n"
     ]
    }
   ],
   "source": [
    "from math import ceil, floor\n",
    "\n",
    "round_up = ceil(12.5)\n",
    "print(round_up)\n",
    "\n",
    "round_down = floor(12.5)\n",
    "print(round_down)"
   ]
  }
 ],
 "metadata": {
  "interpreter": {
   "hash": "654efed62d190ab7b005391799394c6faf96d32c6fee25c2a845b9f38be1babe"
  },
  "kernelspec": {
   "display_name": "Python 3.10.2 64-bit (windows store)",
   "language": "python",
   "name": "python3"
  },
  "language_info": {
   "codemirror_mode": {
    "name": "ipython",
    "version": 3
   },
   "file_extension": ".py",
   "mimetype": "text/x-python",
   "name": "python",
   "nbconvert_exporter": "python",
   "pygments_lexer": "ipython3",
   "version": "3.10.2"
  },
  "orig_nbformat": 4
 },
 "nbformat": 4,
 "nbformat_minor": 2
}
