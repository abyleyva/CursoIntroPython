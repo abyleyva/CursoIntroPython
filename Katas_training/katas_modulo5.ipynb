{
 "cells": [
  {
   "cell_type": "markdown",
   "metadata": {},
   "source": [
    "# Ejercicio1 - Utilizar operadores aritméticos\n",
    "\n",
    "### Operadores aritméticos en Python\n",
    "\n",
    "Exploremos cómo podemos crear un programa que pueda calcular la distancia entre dos planetas.  Comenzaremos usando dos distancias de planetas: \n",
    "* Tierra (149.597.870 km) \n",
    "* Júpiter (778.547.200 km).\n"
   ]
  },
  {
   "cell_type": "code",
   "execution_count": 2,
   "metadata": {},
   "outputs": [],
   "source": [
    "# Crear variables para almacenar las dos distancias\n",
    "# ¡Asegúrate de quitar las comas!\n",
    "\n",
    "distanciaPlaneta1=149597870\n",
    "distanciaPlaneta2=778547200"
   ]
  },
  {
   "cell_type": "markdown",
   "metadata": {},
   "source": [
    "### Realizar la operación\n",
    "\n",
    "* Con los valores obtenidos, restarás el primer planeta del segundo para determinar la distancia en kilómetros.\n",
    "* Convertir la distancia del kilómetro en millas multiplicándola por `0.621`."
   ]
  },
  {
   "cell_type": "code",
   "execution_count": 11,
   "metadata": {},
   "outputs": [
    {
     "name": "stdout",
     "output_type": "stream",
     "text": [
      "La distancia en Kilometros de la Tierra a Jupiter es: 717431501\n",
      "La distancia en millas de la Tierra a Jupiter es: 445524962\n"
     ]
    }
   ],
   "source": [
    "distanciaEntrePlanetas=abs(distanciaPlaneta1-distanciaPlaneta2)\n",
    "print(\"La distancia en Kilometros de la Tierra a Jupiter es: \" + str(distanciaEntrePlanetas))\n",
    "print(\"La distancia en Millas de la Tierra a Jupiter es: \" + str(round(distanciaEntrePlanetas * 0.621)))"
   ]
  },
  {
   "cell_type": "markdown",
   "metadata": {},
   "source": [
    "## Ejercicio 2: convierte cadenas en números y usa valores absolutos\n",
    "\n",
    "Para crear nuestra aplicación, queremos leer la distancia del sol para dos planetas, y luego mostrar la distancia entre los planetas. Haremos esto usando `input` para leer los valores, `int` para convertir a entero y luego `abs` para convertir el resultado en su valor absoluto.\n"
   ]
  },
  {
   "cell_type": "code",
   "execution_count": 25,
   "metadata": {},
   "outputs": [],
   "source": [
    "# Almacenar las entradas del usuario\n",
    "#Pista: variable = input(\"¿Cuál es tu nombre?\")\n",
    "# Debido a que `input` devuelve valores de cadena, necesitamos convertirlos en números. Para nuestro ejemplo, usaremos `int`\n",
    "planeta1=input(\"Ingresa el nombre del Planeta1: \")\n",
    "distanciaPlaneta1=int(input(\"Ahora. Ingresa la distancia del sol al planeta {0}: \".format(planeta1)))\n",
    "\n",
    "planeta2=input(\"Ingresa el nombre del Planeta2: \")\n",
    "distanciaPlaneta2=int(input(\"Ahora. Ingresa la distancia del sol al planeta {0}: \".format(planeta2)))"
   ]
  },
  {
   "cell_type": "markdown",
   "metadata": {},
   "source": [
    "### Realizar el cálculo y convertir a valor absoluto"
   ]
  },
  {
   "cell_type": "code",
   "execution_count": 26,
   "metadata": {},
   "outputs": [
    {
     "name": "stdout",
     "output_type": "stream",
     "text": [
      "La distancia en Kilometros de Saturno a Marte es: 1205600000\n",
      "La distancia en millas de la Saturno a Marte es: 748677600\n"
     ]
    }
   ],
   "source": [
    "# Realizar el cálculo y determinar el valor absoluto\n",
    "distanciaEntrePlanetas=abs(distanciaPlaneta1 - distanciaPlaneta2)\n",
    "\n",
    "# Convertir de KM a Millas\n",
    "print(\"La distancia en Kilometros de {planeta1} a {planeta2} es: \".format(planeta1=planeta1,planeta2=planeta2) + str(distanciaEntrePlanetas))\n",
    "print(\"La distancia en millas de la {planeta1} a {planeta2} es: \".format(planeta1=planeta1,planeta2=planeta2) + str(round(distanciaEntrePlanetas * 0.621)))"
   ]
  }
 ],
 "metadata": {
  "interpreter": {
   "hash": "654efed62d190ab7b005391799394c6faf96d32c6fee25c2a845b9f38be1babe"
  },
  "kernelspec": {
   "display_name": "Python 3.10.2 64-bit (windows store)",
   "language": "python",
   "name": "python3"
  },
  "language_info": {
   "codemirror_mode": {
    "name": "ipython",
    "version": 3
   },
   "file_extension": ".py",
   "mimetype": "text/x-python",
   "name": "python",
   "nbconvert_exporter": "python",
   "pygments_lexer": "ipython3",
   "version": "3.10.2"
  },
  "orig_nbformat": 4
 },
 "nbformat": 4,
 "nbformat_minor": 2
}
