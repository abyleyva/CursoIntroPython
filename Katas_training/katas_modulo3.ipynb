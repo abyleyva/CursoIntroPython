{
 "cells": [
  {
   "cell_type": "markdown",
   "metadata": {},
   "source": [
    "## Ejercicio: escribir declaraciones *if, else y elif*"
   ]
  },
  {
   "cell_type": "markdown",
   "metadata": {},
   "source": [
    "**Imprimir advertencia si un asteroide se acerca a la Tierra demasiado rápido.**\n",
    "\n",
    "* La velocidad del asteroide varía dependiendo de lo cerca que esté del sol\n",
    "* Cualquier velocidad superior a 25 kilómetros por segundo (km/s) merece una advertencia\n",
    "* Un asteroide se acerca, y viaja a una velocidad de 49 km/s."
   ]
  },
  {
   "cell_type": "code",
   "execution_count": 2,
   "metadata": {},
   "outputs": [
    {
     "name": "stdout",
     "output_type": "stream",
     "text": [
      "Advertencia: Asteroide acercandose demasiado rapido: 49 km/s\n"
     ]
    }
   ],
   "source": [
    "#Velocidad del asteroide\n",
    "velocidadAsteroide=49 #km/s\n",
    "VelocidadMaxima=25 #km/s\n",
    "\n",
    "if velocidadAsteroide>VelocidadMaxima:\n",
    "    print(\"Advertencia: Asteroide acercandose demasiado rapido: \" + str(velocidadAsteroide) + \" km/s\")"
   ]
  },
  {
   "cell_type": "markdown",
   "metadata": {},
   "source": [
    "* Si un asteroide entra en la atmósfera de la Tierra a una velocidad mayor o igual a 20 km/s, a veces produce un rayo de luz que se puede ver desde la Tierra. \n",
    "* Escribe la lógica condicional que usa declaraciones if, else, y elif para alertar a las personas de todo el mundo que deben buscar un asteroide en el cielo. \n",
    "* ¡Hay uno que se dirige a la tierra ahora a una velocidad de 19 km/s!"
   ]
  },
  {
   "cell_type": "code",
   "execution_count": 8,
   "metadata": {},
   "outputs": [],
   "source": [
    "velocidadAsteroide=19 #\"km/s\"\n",
    "luzVisible=False\n",
    "\n",
    "if velocidadAsteroide>=20:\n",
    "    if luzVisible:\n",
    "        print (\"Hay un Asteroide aproximandose y puede verse desde la tierra\")\n",
    "    else:\n",
    "        print(\"Asteroide aproximandose pero no es visible\")\n",
    "\n",
    "\n"
   ]
  },
  {
   "cell_type": "markdown",
   "metadata": {},
   "source": [
    "* Los asteroides de menos de 25 metros en su dimensión más grande probablemente se quemarán a medida que entren en la atmósfera de la Tierra\n",
    "* Si una pieza de un asteroide que es más grande que 25 metros pero más pequeña que 1000 metros golpeara la Tierra, causaría mucho daño\n",
    "* La velocidad del asteroide varía en función de lo cerca que esté del sol, y cualquier velocidad superior a 25 kilómetros por segundo (km/s) merece una advertencia\n",
    "* Si un asteroide entra en la atmósfera de la Tierra a una velocidad mayor o igual a 20 km/s, a veces produce un rayo de luz que se puede ver desde la Tierra"
   ]
  },
  {
   "cell_type": "code",
   "execution_count": 15,
   "metadata": {},
   "outputs": [
    {
     "name": "stdout",
     "output_type": "stream",
     "text": [
      "Advertencia: Asteroide acercandose demasiado rapido: 26 km/s\n",
      "Hay un Asteroide aproximandose y puede verse desde la tierra\n"
     ]
    }
   ],
   "source": [
    "tamañoAsteroide=25 #metros\n",
    "velocidadAsteroide=26 #km/s\n",
    "velocidadMaximaPermitida=25 #km/s\n",
    "luzVisible=True\n",
    "\n",
    "if tamañoAsteroide<25:\n",
    "    print(\"Asteriode sin peligro, desintegrado...\")\n",
    "elif tamañoAsteroide>25 and tamañoAsteroide<1000:\n",
    "    if velocidadAsteroide>velocidadMaximaPermitida:\n",
    "        print(\"Advertencia: Asteroide acercandose demasiado rapido: \" + str(velocidadAsteroide) + \" km/s\")\n",
    "    print(\"Riesgo Critico: Si Golpea a la tierra\")\n",
    "else:\n",
    "    if velocidadAsteroide>=20:\n",
    "        if velocidadAsteroide>velocidadMaximaPermitida:\n",
    "            print(\"Advertencia: Asteroide acercandose demasiado rapido: \" + str(velocidadAsteroide) + \" km/s\")\n",
    "\n",
    "        if luzVisible:\n",
    "            print (\"Hay un Asteroide aproximandose y puede verse desde la tierra\")\n",
    "        else:\n",
    "            print(\"Asteroide aproximandose pero no es visible\")\n",
    "    else:\n",
    "      print(\"Asteroide no es visible\")  "
   ]
  }
 ],
 "metadata": {
  "interpreter": {
   "hash": "654efed62d190ab7b005391799394c6faf96d32c6fee25c2a845b9f38be1babe"
  },
  "kernelspec": {
   "display_name": "Python 3.10.2 64-bit (windows store)",
   "language": "python",
   "name": "python3"
  },
  "language_info": {
   "codemirror_mode": {
    "name": "ipython",
    "version": 3
   },
   "file_extension": ".py",
   "mimetype": "text/x-python",
   "name": "python",
   "nbconvert_exporter": "python",
   "pygments_lexer": "ipython3",
   "version": "3.10.2"
  },
  "orig_nbformat": 4
 },
 "nbformat": 4,
 "nbformat_minor": 2
}
